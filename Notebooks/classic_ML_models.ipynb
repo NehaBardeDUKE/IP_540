{
 "cells": [
  {
   "cell_type": "markdown",
   "id": "8f8a3939",
   "metadata": {},
   "source": [
    "## Classification of Diffusion Model Generated Images using Classic Machine Learning Models"
   ]
  },
  {
   "cell_type": "markdown",
   "id": "dad3e430",
   "metadata": {},
   "source": [
    "### Load necessary modules"
   ]
  },
  {
   "cell_type": "code",
   "execution_count": 1,
   "id": "4ee14d65",
   "metadata": {},
   "outputs": [],
   "source": [
    "# Load all necessary modules\n",
    "import os\n",
    "import cv2\n",
    "import numpy as np\n",
    "import matplotlib.pyplot as plt\n",
    "from sklearn.metrics import classification_report, confusion_matrix, ConfusionMatrixDisplay\n",
    "from sklearn.svm import SVC\n",
    "from sklearn.neighbors import KNeighborsClassifier\n",
    "from sklearn.tree import DecisionTreeClassifier\n",
    "from sklearn.ensemble import RandomForestClassifier"
   ]
  },
  {
   "cell_type": "markdown",
   "id": "e701289f",
   "metadata": {},
   "source": [
    "###  Load and transform all datasets "
   ]
  },
  {
   "cell_type": "code",
   "execution_count": 2,
   "id": "33ccc459",
   "metadata": {},
   "outputs": [],
   "source": [
    "# Load all datasets in numpy array format \n",
    "def removeTmpFiles(path):\n",
    "    # automatically remove all .DS_Store files\n",
    "    if path.split(\"/\")[-1] == '.DS_Store': os.remove(path)\n",
    "    elif os.path.isdir(path):\n",
    "        for filename in os.listdir(path): removeTmpFiles(path + \"/\" + filename)\n",
    "\n",
    "data_dir = \"data/final_output_data/\"\n",
    "data_train, data_val, data_test = [], [], []\n",
    "labels_train, labels_val, labels_test = [], [], []\n",
    "\n",
    "data = {'train': data_train,\n",
    "        'val': data_val,\n",
    "        'test': data_test}\n",
    "labels = {'train': labels_train,\n",
    "          'val': labels_val,\n",
    "          'test': labels_test}\n",
    "\n",
    "dataset_types = ['train', 'val', 'test']\n",
    "for t in dataset_types:\n",
    "    curr_data_dir = data_dir+t\n",
    "    removeTmpFiles(curr_data_dir) # for macOS\n",
    "    for folder_name in os.listdir(curr_data_dir):\n",
    "        folder_path_class = os.path.join(curr_data_dir, folder_name)\n",
    "        label = folder_name\n",
    "        for image_path in os.listdir(folder_path_class):\n",
    "            image_path_full = os.path.join(folder_path_class, image_path)\n",
    "            image = cv2.imread(image_path_full)\n",
    "            image = cv2.resize(image, (240, 240))\n",
    "            image = image.flatten()\n",
    "            data[t].append(image)\n",
    "            labels[t].append(label)\n",
    "    data[t] = np.array(data[t], dtype=object)\n",
    "    labels[t] = np.array(labels[t], dtype=object)"
   ]
  },
  {
   "cell_type": "markdown",
   "id": "fe7ab128",
   "metadata": {},
   "source": [
    "### Model : Support Vector Machine"
   ]
  },
  {
   "cell_type": "code",
   "execution_count": 3,
   "id": "14aa3250",
   "metadata": {},
   "outputs": [],
   "source": [
    "def test_SVC_model(kernel, C_val, X_train, y_train, X_test):\n",
    "    model = SVC(kernel=kernel, C=C_val)\n",
    "    model.fit(X_train, y_train)\n",
    "    y_pred = model.predict(X_test)\n",
    "    return y_pred"
   ]
  },
  {
   "cell_type": "code",
   "execution_count": null,
   "id": "4cbafcd0",
   "metadata": {},
   "outputs": [],
   "source": [
    "y_pred_SVM = test_SVC_model('rbf', 10, data['train'], labels['train'], data['test'])\n",
    "print(\"Classfication report for SVM:\")\n",
    "print(classification_report(labels['test'], y_pred_SVM, target_names=['real', 'edit']))"
   ]
  }
 ],
 "metadata": {
  "kernelspec": {
   "display_name": "Python 3 (ipykernel)",
   "language": "python",
   "name": "python3"
  },
  "language_info": {
   "codemirror_mode": {
    "name": "ipython",
    "version": 3
   },
   "file_extension": ".py",
   "mimetype": "text/x-python",
   "name": "python",
   "nbconvert_exporter": "python",
   "pygments_lexer": "ipython3",
   "version": "3.9.12"
  },
  "vscode": {
   "interpreter": {
    "hash": "1d062df41f54249e2b34db2593cd2ba595c42e1af69466d7a7b6947d5fd648bf"
   }
  }
 },
 "nbformat": 4,
 "nbformat_minor": 5
}
