{
 "cells": [
  {
   "cell_type": "code",
   "execution_count": 6,
   "id": "1612e6ae",
   "metadata": {},
   "outputs": [],
   "source": [
    "## script that randomly split the images into train set and test set and move them to the final output directory\n",
    "\n",
    "import os\n",
    "import random\n",
    "\n"
   ]
  },
  {
   "cell_type": "code",
   "execution_count": 7,
   "id": "a2df6404",
   "metadata": {},
   "outputs": [],
   "source": [
    "def split_files(src_folder, dest_folder_train, dest_folder_test, split_ratio):\n",
    "    files = os.listdir(src_folder)\n",
    "    random.shuffle(files)\n",
    "    \n",
    "    split_index = int(split_ratio * len(files))\n",
    "    dest1_files = files[:split_index]\n",
    "    dest2_files = files[split_index:]\n",
    "    \n",
    "    if not os.path.exists(dest_folder_train): os.makedirs(dest_folder_train)\n",
    "    if not os.path.exists(dest_folder_test): os.makedirs(dest_folder_test)\n",
    "    \n",
    "    for file in dest1_files:\n",
    "        src_file = os.path.join(src_folder, file)\n",
    "        dest_file = os.path.join(dest_folder_train, file)\n",
    "        os.rename(src_file, dest_file)\n",
    "        \n",
    "    for file in dest2_files:\n",
    "        src_file = os.path.join(src_folder, file)\n",
    "        dest_file = os.path.join(dest_folder_test, file)\n",
    "        os.rename(src_file, dest_file)\n",
    "\n"
   ]
  },
  {
   "cell_type": "code",
   "execution_count": 5,
   "id": "8fb709b2",
   "metadata": {},
   "outputs": [],
   "source": [
    "if __name__ == '__main__':\n",
    "    src_folder='../final_output_data/train/original'\n",
    "    dest_folder_train = '../final_output_data/train1/original'\n",
    "    dest_folder_val='../final_output_data/val/original'\n",
    "    split_ratio = 0.7\n",
    "    split_files(src_folder, dest_folder_train, dest_folder_val, split_ratio)\n",
    "    src_folder2='../final_output_data/train/photoshop'\n",
    "    dest_folder_train2 = '../final_output_data/train1/photoshop'\n",
    "    dest_folder_val2='../final_output_data/val/photoshop'\n",
    "    split_files(src_folder2, dest_folder_train2, dest_folder_val2, split_ratio)"
   ]
  },
  {
   "cell_type": "code",
   "execution_count": 9,
   "id": "4578dba3",
   "metadata": {},
   "outputs": [],
   "source": [
    "if __name__ == '__main__':\n",
    "    src_folder='../nsb37/Identifying-Human-Edited-Images/data/real_and_fake_face_detection/real_and_fake_face/edited'\n",
    "    dest_folder_train = 'data/final_output/train/edited'\n",
    "    dest_folder_val = 'data/final_output/val/edited'\n",
    "    split_ratio = 0.7\n",
    "    split_files(src_folder, dest_folder_train, dest_folder_val, split_ratio)\n",
    "    src_folder_2='../nsb37/Identifying-Human-Edited-Images/data/real_and_fake_face_detection/real_and_fake_face/real'\n",
    "    dest_folder_train_2 = 'final_output_data/train/real'\n",
    "    dest_folder_val_2 = 'final_output_data/val/real'\n",
    "    \n",
    "    split_files(src_folder_2, dest_folder_train_2, dest_folder_val_2, split_ratio)"
   ]
  },
  {
   "cell_type": "code",
   "execution_count": 10,
   "id": "cca4c496",
   "metadata": {},
   "outputs": [
    {
     "name": "stdout",
     "output_type": "stream",
     "text": [
      "672\n",
      "756\n",
      "288\n",
      "325\n"
     ]
    }
   ],
   "source": [
    "print(len(os.listdir('final_output_data/train/edited/')))\n",
    "print(len(os.listdir('final_output_data/train/real')))\n",
    "print(len(os.listdir('final_output_data/val/edited/')))\n",
    "print(len(os.listdir('final_output_data/val/real')))"
   ]
  },
  {
   "cell_type": "code",
   "execution_count": null,
   "id": "24772d1b",
   "metadata": {},
   "outputs": [],
   "source": []
  }
 ],
 "metadata": {
  "kernelspec": {
   "display_name": "Python 3 (ipykernel)",
   "language": "python",
   "name": "python3"
  },
  "language_info": {
   "codemirror_mode": {
    "name": "ipython",
    "version": 3
   },
   "file_extension": ".py",
   "mimetype": "text/x-python",
   "name": "python",
   "nbconvert_exporter": "python",
   "pygments_lexer": "ipython3",
   "version": "3.8.5"
  }
 },
 "nbformat": 4,
 "nbformat_minor": 5
}
